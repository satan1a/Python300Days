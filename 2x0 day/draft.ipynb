{
 "cells": [
  {
   "cell_type": "code",
   "execution_count": 1,
   "metadata": {},
   "outputs": [
    {
     "name": "stdout",
     "output_type": "stream",
     "text": [
      "Hello\n"
     ]
    }
   ],
   "source": [
    "print(\"Hello\")"
   ]
  },
  {
   "cell_type": "markdown",
   "metadata": {},
   "source": [
    "# This is a practise"
   ]
  },
  {
   "cell_type": "markdown",
   "metadata": {},
   "source": [
    "## using jupyter notebook\n",
    "\n",
    "### it's good"
   ]
  },
  {
   "cell_type": "code",
   "execution_count": 7,
   "metadata": {},
   "outputs": [],
   "source": [
    "profile = {\"name\": \"Alex\", \"age\": 38, \"gender\": \"male\"}"
   ]
  },
  {
   "cell_type": "code",
   "execution_count": 6,
   "metadata": {},
   "outputs": [
    {
     "name": "stdout",
     "output_type": "stream",
     "text": [
      "Alex\n"
     ]
    }
   ],
   "source": [
    "print(profile[\"name\"])"
   ]
  },
  {
   "cell_type": "code",
   "execution_count": 8,
   "metadata": {},
   "outputs": [
    {
     "name": "stdout",
     "output_type": "stream",
     "text": [
      "handsome\n"
     ]
    }
   ],
   "source": [
    "profile[\"face\"] = \"handsome\"\n",
    "print(profile[\"face\"])"
   ]
  },
  {
   "cell_type": "code",
   "execution_count": 9,
   "metadata": {},
   "outputs": [
    {
     "name": "stdout",
     "output_type": "stream",
     "text": [
      "{'name': 'Alex', 'age': 38, 'gender': 'male', 'face': 'handsome'}\n"
     ]
    }
   ],
   "source": [
    "print(profile)"
   ]
  },
  {
   "cell_type": "code",
   "execution_count": 10,
   "metadata": {},
   "outputs": [
    {
     "name": "stdout",
     "output_type": "stream",
     "text": [
      "name\n",
      "age\n",
      "gender\n",
      "face\n"
     ]
    }
   ],
   "source": [
    "for item in profile:\n",
    "    print(item)"
   ]
  },
  {
   "cell_type": "code",
   "execution_count": 19,
   "metadata": {},
   "outputs": [
    {
     "name": "stdout",
     "output_type": "stream",
     "text": [
      "Alex\n",
      "male\n",
      "handsome\n"
     ]
    }
   ],
   "source": [
    "dicProfile = [\"Alex\", \"male\", \"handsome\"]\n",
    "for i in range(len(dicProfile)):\n",
    "    print(dicProfile[i])"
   ]
  },
  {
   "cell_type": "code",
   "execution_count": 31,
   "metadata": {},
   "outputs": [
    {
     "name": "stdout",
     "output_type": "stream",
     "text": [
      "Alex is handsome\n",
      "Amy does not like Alex\n"
     ]
    }
   ],
   "source": [
    "def alexIsGoodOrNot(name):\n",
    "    if name == \"Alex\":\n",
    "        print(\"{0} is handsome\".format(name))\n",
    "    else:\n",
    "        print(\"{0} does not like Alex\".format(name))\n",
    "        \n",
    "name0 = \"Alex\"\n",
    "name1 = \"Amy\"\n",
    "alexIsGoodOrNot(name0)\n",
    "alexIsGoodOrNot(name1)"
   ]
  },
  {
   "cell_type": "markdown",
   "metadata": {},
   "source": [
    "## 以下是面向对象编程练习"
   ]
  },
  {
   "cell_type": "code",
   "execution_count": 39,
   "metadata": {},
   "outputs": [],
   "source": [
    "class Profile:\n",
    "    def __init__(self, name, age, gender):\n",
    "        self.name  = name\n",
    "        self.age = age\n",
    "        self.gender = gender\n",
    "    def isGoodOrNot(self):\n",
    "        if self.name == \"Alex\":\n",
    "            print(\"{0} is handsome\".format(self.name))"
   ]
  },
  {
   "cell_type": "code",
   "execution_count": 42,
   "metadata": {},
   "outputs": [
    {
     "name": "stdout",
     "output_type": "stream",
     "text": [
      "Alex is handsome\n"
     ]
    }
   ],
   "source": [
    "alex = Profile(\"Alex\", 38, \"male\")\n",
    "alex.isGoodOrNot()"
   ]
  },
  {
   "cell_type": "code",
   "execution_count": 43,
   "metadata": {},
   "outputs": [
    {
     "name": "stdout",
     "output_type": "stream",
     "text": [
      "division by zero\n"
     ]
    }
   ],
   "source": [
    "try:\n",
    "    result = 5/0\n",
    "except Exception as e:\n",
    "    print(e)"
   ]
  },
  {
   "cell_type": "markdown",
   "metadata": {},
   "source": [
    "## 一个简单爬虫"
   ]
  },
  {
   "cell_type": "markdown",
   "metadata": {},
   "source": [
    "### 第一步：获取网页"
   ]
  },
  {
   "cell_type": "code",
   "execution_count": 44,
   "metadata": {},
   "outputs": [
    {
     "name": "stdout",
     "output_type": "stream",
     "text": [
      "<!DOCTYPE html>\n",
      "<html lang=\"zh-CN\">\n",
      "<head>\n",
      "<meta charset=\"UTF-8\">\n",
      "<meta http-equiv=\"X-UA-Compatible\" content=\"IE=edge\">\n",
      "<meta name=\"viewport\" content=\"width=device-width, initial-scale=1, maximum-scale=1\">\n",
      "<title>Santos Tang</title>\n",
      "<meta name=\"description\" content=\"Python网络爬虫：从入门到实践 官方网站及个人博客\" />\n",
      "<meta name=\"keywords\" content=\"Python网络爬虫, Python爬虫, Python, 爬虫, 数据科学, 数据挖掘, 数据分析, santostang, Santos Tang, 唐松, Song Tang\" />\n",
      "<link rel=\"apple-touch-icon\" href=\"http://www.santostang.com/wp-content/themes/SongStyle-Two/images/icon_32.png\">\n",
      "<link rel=\"apple-touch-icon\" sizes=\"152x152\" href=\"http://www.santostang.com/wp-content/themes/SongStyle-Two/images/icon_152.png\">\n",
      "<link rel=\"apple-touch-icon\" sizes=\"167x167\" href=\"http://www.santostang.com/wp-content/themes/SongStyle-Two/images/icon_167.png\">\n",
      "<link rel=\"apple-touch-icon\" sizes=\"180x180\" href=\"http://www.santostang.com/wp-content/themes/SongStyle-Two/images/icon_180.png\">\n",
      "<link rel=\"icon\" href=\"http://www.santostang.com/wp-content/themes/SongStyle-Two/images/icon_32.png\" type=\"image/x-icon\">\n",
      "<link rel=\"stylesheet\" href=\"http://www.santostang.com/wp-content/themes/SongStyle-Two/css/bootstrap.min.css\">\n",
      "<link rel=\"stylesheet\" href=\"http://www.santostang.com/wp-content/themes/SongStyle-Two/css/fontawesome.min.css\">\n",
      "<link rel=\"stylesheet\" href=\"http://www.santostang.com/wp-content/themes/SongStyle-Two/style.css\">\n",
      "<link rel=\"pingback\" href=\"http://www.santostang.com/xmlrpc.php\" />\n",
      "<style type=\"text/css\">\n",
      "a{color:#1e73be}\n",
      "a:hover{color:#2980b9!important}\n",
      "#header{background-color:#1e73be}\n",
      ".widget .widget-title::after{background-color:#1e73be}\n",
      ".uptop{border-left-color:#1e73be}\n",
      "#titleBar .toggle:before{background:#1e73be}\n",
      "</style>\n",
      "</head>\n",
      "\n",
      "<body>\n",
      "<header id=\"header\">\n",
      "    <div class=\"avatar\"><a href=\"http://www.santostang.com\" title=\"Santos Tang\"><img src=\"http://www.santostang.com/wp-content/uploads/2019/06/me.jpg\" alt=\"Santos Tang\" class=\"img-circle\" width=\"50%\"></a></div>\n",
      "    <h1 id=\"name\">Santos Tang</h1>\n",
      "    <div class=\"sns\">\n",
      "                <a href=\"https://weibo.com/santostang\" target=\"_blank\" rel=\"nofollow\" data-toggle=\"tooltip\" data-placement=\"top\" title=\"Weibo\"><i class=\"fab fa-weibo\"></i></a>        <a href=\"https://www.linkedin.com/in/santostang\" target=\"_blank\" rel=\"nofollow\" data-toggle=\"tooltip\" data-placement=\"top\" title=\"Linkedin\"><i class=\"fab fa-linkedin\"></i></a>        <a href=\"https://www.zhihu.com/people/santostang\" target=\"_blank\" rel=\"nofollow\" data-toggle=\"tooltip\" data-placement=\"top\" title=\"Zhihu\"><i class=\"fab fa-zhihu\"></i></a>        <a href=\"https://github.com/santostang\" target=\"_blank\" rel=\"nofollow\" data-toggle=\"tooltip\" data-placement=\"top\" title=\"GitHub\"><i class=\"fab fa-github-alt\"></i></a>    </div>\n",
      "    <div class=\"nav\">\n",
      "        <ul><li><a href=\"http://www.santostang.com/\">首页</a></li>\n",
      "<li><a href=\"http://www.santostang.com/aboutme/\">关于我</a></li>\n",
      "<li><a href=\"http://www.santostang.com/python%e7%bd%91%e7%bb%9c%e7%88%ac%e8%99%ab%e4%bb%a3%e7%a0%81/\">爬虫书代码</a></li>\n",
      "<li><a href=\"http://www.santostang.com/%e5%8a%a0%e6%88%91%e5%be%ae%e4%bf%a1/\">加我微信</a></li>\n",
      "<li><a href=\"https://santostang.github.io/\">EnglishSite</a></li>\n",
      "</ul>    </div>\n",
      "        <div class=\"weixin\">\n",
      "        <img src=\"http://www.santostang.com/wp-content/uploads/2019/06/qrcode_for_gh_370f70791e19_258.jpg\" alt=\"微信公众号\" width=\"50%\">\n",
      "        <p>微信公众号</p>\n",
      "    </div>\n",
      "    </header>\n",
      "<div id=\"main\">\n",
      "    <div class=\"row box\">\n",
      "        <div class=\"col-md-8\">\n",
      "                                <h2 class=\"uptop\"><i class=\"fas fa-arrow-circle-up\"></i> <a href=\"http://www.santostang.com/2018/07/11/%e3%80%8a%e7%bd%91%e7%bb%9c%e7%88%ac%e8%99%ab%ef%bc%9a%e4%bb%8e%e5%85%a5%e9%97%a8%e5%88%b0%e5%ae%9e%e8%b7%b5%e3%80%8b%e4%b8%80%e4%b9%a6%e5%8b%98%e8%af%af/\" target=\"_blank\">《网络爬虫：从入门到实践》一书勘误</a></h2>\n",
      "                                                <article class=\"article-list-1 clearfix\">\n",
      "                <header class=\"clearfix\">\n",
      "                    <h1 class=\"post-title\"><a href=\"http://www.santostang.com/2018/07/15/4-3-%e9%80%9a%e8%bf%87selenium-%e6%a8%a1%e6%8b%9f%e6%b5%8f%e8%a7%88%e5%99%a8%e6%8a%93%e5%8f%96/\">第四章 &#8211; 4.3 通过selenium 模拟浏览器抓取</a></h1>\n",
      "                    <div class=\"post-meta\">\n",
      "                        <span class=\"meta-span\"><i class=\"far fa-calendar-alt\"></i> 07月15日</span>\n",
      "                        <span class=\"meta-span\"><i class=\"far fa-folder\"></i> <a href=\"http://www.santostang.com/category/python-%e7%bd%91%e7%bb%9c%e7%88%ac%e8%99%ab/\" rel=\"category tag\">Python 网络爬虫</a></span>\n",
      "                        <span class=\"meta-span\"><i class=\"fas fa-comments\"></i> <a href=\"http://www.santostang.com/2018/07/15/4-3-%e9%80%9a%e8%bf%87selenium-%e6%a8%a1%e6%8b%9f%e6%b5%8f%e8%a7%88%e5%99%a8%e6%8a%93%e5%8f%96/#respond\">没有评论</a></span>\n",
      "                        <span class=\"meta-span hidden-xs\"><i class=\"fas fa-tags\"></i> </span>\n",
      "                    </div>\n",
      "                </header>\n",
      "                <div class=\"post-content clearfix\">\n",
      "                    <p>4.3 通过selenium 模拟浏览器抓取\n",
      "\n",
      "在上述的例子中，使用Chrome“检查”功能找到源地址还十分容易。但是有一些网站非常复杂，例如前面的天猫产品评论，使用“检查”功能很难找到调用的网页地址。除此之外，有一些数据...</p>\n",
      "                </div>\n",
      "            </article>\n",
      "                                                <article class=\"article-list-1 clearfix\">\n",
      "                <header class=\"clearfix\">\n",
      "                    <h1 class=\"post-title\"><a href=\"http://www.santostang.com/2018/07/14/4-2-%e8%a7%a3%e6%9e%90%e7%9c%9f%e5%ae%9e%e5%9c%b0%e5%9d%80%e6%8a%93%e5%8f%96/\">第四章 &#8211; 4.2 解析真实地址抓取</a></h1>\n",
      "                    <div class=\"post-meta\">\n",
      "                        <span class=\"meta-span\"><i class=\"far fa-calendar-alt\"></i> 07月14日</span>\n",
      "                        <span class=\"meta-span\"><i class=\"far fa-folder\"></i> <a href=\"http://www.santostang.com/category/python-%e7%bd%91%e7%bb%9c%e7%88%ac%e8%99%ab/\" rel=\"category tag\">Python 网络爬虫</a></span>\n",
      "                        <span class=\"meta-span\"><i class=\"fas fa-comments\"></i> <a href=\"http://www.santostang.com/2018/07/14/4-2-%e8%a7%a3%e6%9e%90%e7%9c%9f%e5%ae%9e%e5%9c%b0%e5%9d%80%e6%8a%93%e5%8f%96/#respond\">没有评论</a></span>\n",
      "                        <span class=\"meta-span hidden-xs\"><i class=\"fas fa-tags\"></i> <a href=\"http://www.santostang.com/tag/ajax/\" rel=\"tag\">ajax</a>,<a href=\"http://www.santostang.com/tag/python/\" rel=\"tag\">python</a>,<a href=\"http://www.santostang.com/tag/%e7%bd%91%e7%bb%9c%e7%88%ac%e8%99%ab/\" rel=\"tag\">网络爬虫</a>,<a href=\"http://www.santostang.com/tag/%e7%bd%91%e9%a1%b5%e7%88%ac%e8%99%ab/\" rel=\"tag\">网页爬虫</a>,<a href=\"http://www.santostang.com/tag/%e8%a7%a3%e6%9e%90%e5%9c%b0%e5%9d%80/\" rel=\"tag\">解析地址</a></span>\n",
      "                    </div>\n",
      "                </header>\n",
      "                <div class=\"post-content clearfix\">\n",
      "                    <p>由于网易云跟帖停止服务，现在已经在此处中更新了新写的第四章。请参照文章：\n",
      "4.2 解析真实地址抓取\n",
      "虽然数据并没有出现在网页源代码中，我们也可以找到数据的真实地址，请求这个真实地址也可以获得想要的数据。...</p>\n",
      "                </div>\n",
      "            </article>\n",
      "                                                <article class=\"article-list-1 clearfix\">\n",
      "                <header class=\"clearfix\">\n",
      "                    <h1 class=\"post-title\"><a href=\"http://www.santostang.com/2018/07/14/%e7%ac%ac%e5%9b%9b%e7%ab%a0%ef%bc%9a%e5%8a%a8%e6%80%81%e7%bd%91%e9%a1%b5%e6%8a%93%e5%8f%96-%e8%a7%a3%e6%9e%90%e7%9c%9f%e5%ae%9e%e5%9c%b0%e5%9d%80-selenium/\">第四章- 动态网页抓取 (解析真实地址 + selenium)</a></h1>\n",
      "                    <div class=\"post-meta\">\n",
      "                        <span class=\"meta-span\"><i class=\"far fa-calendar-alt\"></i> 07月14日</span>\n",
      "                        <span class=\"meta-span\"><i class=\"far fa-folder\"></i> <a href=\"http://www.santostang.com/category/python-%e7%bd%91%e7%bb%9c%e7%88%ac%e8%99%ab/\" rel=\"category tag\">Python 网络爬虫</a></span>\n",
      "                        <span class=\"meta-span\"><i class=\"fas fa-comments\"></i> <a href=\"http://www.santostang.com/2018/07/14/%e7%ac%ac%e5%9b%9b%e7%ab%a0%ef%bc%9a%e5%8a%a8%e6%80%81%e7%bd%91%e9%a1%b5%e6%8a%93%e5%8f%96-%e8%a7%a3%e6%9e%90%e7%9c%9f%e5%ae%9e%e5%9c%b0%e5%9d%80-selenium/#respond\">没有评论</a></span>\n",
      "                        <span class=\"meta-span hidden-xs\"><i class=\"fas fa-tags\"></i> <a href=\"http://www.santostang.com/tag/ajax/\" rel=\"tag\">ajax</a>,<a href=\"http://www.santostang.com/tag/javascript/\" rel=\"tag\">javascript</a>,<a href=\"http://www.santostang.com/tag/python/\" rel=\"tag\">python</a>,<a href=\"http://www.santostang.com/tag/selenium/\" rel=\"tag\">selenium</a>,<a href=\"http://www.santostang.com/tag/%e7%bd%91%e7%bb%9c%e7%88%ac%e8%99%ab/\" rel=\"tag\">网络爬虫</a></span>\n",
      "                    </div>\n",
      "                </header>\n",
      "                <div class=\"post-content clearfix\">\n",
      "                    <p>由于网易云跟帖停止服务，现在已经在此处中更新了新写的第四章。请参照文章：\n",
      "前面爬取的网页均为静态网页，这样的网页在浏览器中展示的内容都在HTML源代码中。但是，由于主流网站都使用JavaScript展现网页内容，...</p>\n",
      "                </div>\n",
      "            </article>\n",
      "                                                <article class=\"article-list-1 clearfix\">\n",
      "                <header class=\"clearfix\">\n",
      "                    <h1 class=\"post-title\"><a href=\"http://www.santostang.com/2018/07/04/hello-world/\">Hello world!</a></h1>\n",
      "                    <div class=\"post-meta\">\n",
      "                        <span class=\"meta-span\"><i class=\"far fa-calendar-alt\"></i> 07月04日</span>\n",
      "                        <span class=\"meta-span\"><i class=\"far fa-folder\"></i> <a href=\"http://www.santostang.com/category/python-%e7%bd%91%e7%bb%9c%e7%88%ac%e8%99%ab/\" rel=\"category tag\">Python 网络爬虫</a></span>\n",
      "                        <span class=\"meta-span\"><i class=\"fas fa-comments\"></i> <a href=\"http://www.santostang.com/2018/07/04/hello-world/#comments\">1条评论</a></span>\n",
      "                        <span class=\"meta-span hidden-xs\"><i class=\"fas fa-tags\"></i> </span>\n",
      "                    </div>\n",
      "                </header>\n",
      "                <div class=\"post-content clearfix\">\n",
      "                    <p>Welcome to WordPress. This is your first post. Edit or delete it, then start writing!\n",
      "各位读者，由于网易云跟帖在本书出版后已经停止服务，书中的第四章已经无法使用。所以我将本书的评论系统换成了来必力...</p>\n",
      "                </div>\n",
      "            </article>\n",
      "                                    <nav style=\"float:right\">\n",
      "                            </nav>\n",
      "        </div>\n",
      "        <div class=\"col-md-4 hidden-xs hidden-sm\">\n",
      "            <aside class=\"widget clearfix\">\n",
      "    <form id=\"searchform\" action=\"http://www.santostang.com\">\n",
      "        <div class=\"input-group\">\n",
      "            <input type=\"search\" class=\"form-control\" placeholder=\"搜索…\" value=\"\" name=\"s\">\n",
      "            <span class=\"input-group-btn\"><button class=\"btn btn-default\" type=\"submit\"><i class=\"fas fa-search\"></i></button></span>\n",
      "        </div>\n",
      "    </form>\n",
      "</aside>\n",
      "<aside class=\"widget clearfix\">\n",
      "    <h4 class=\"widget-title\">文章分类</h4>\n",
      "    <ul class=\"widget-cat\">\n",
      "        \t<li class=\"cat-item cat-item-2\"><a href=\"http://www.santostang.com/category/python-%e7%bd%91%e7%bb%9c%e7%88%ac%e8%99%ab/\" >Python 网络爬虫</a> (5)\n",
      "</li>\n",
      "    </ul>\n",
      "</aside>\n",
      "<aside class=\"widget clearfix\">\n",
      "    <h4 class=\"widget-title\">热门文章</h4>\n",
      "    <ul class=\"widget-hot\">\n",
      "            </ul>\n",
      "</aside>\n",
      "<aside class=\"widget clearfix\">\n",
      "    <h4 class=\"widget-title\">随机推荐</h4>\n",
      "    <ul class=\"widget-hot\">\n",
      "            <li><a href=\"http://www.santostang.com/2018/07/15/4-3-%e9%80%9a%e8%bf%87selenium-%e6%a8%a1%e6%8b%9f%e6%b5%8f%e8%a7%88%e5%99%a8%e6%8a%93%e5%8f%96/\" title=\"第四章 &#8211; 4.3 通过selenium 模拟浏览器抓取\">第四章 &#8211; 4.3 通过selenium 模拟浏览器抓取</a></li>\n",
      "            <li><a href=\"http://www.santostang.com/2018/07/14/%e7%ac%ac%e5%9b%9b%e7%ab%a0%ef%bc%9a%e5%8a%a8%e6%80%81%e7%bd%91%e9%a1%b5%e6%8a%93%e5%8f%96-%e8%a7%a3%e6%9e%90%e7%9c%9f%e5%ae%9e%e5%9c%b0%e5%9d%80-selenium/\" title=\"第四章- 动态网页抓取 (解析真实地址 + selenium)\">第四章- 动态网页抓取 (解析真实地址 + selenium)</a></li>\n",
      "            <li><a href=\"http://www.santostang.com/2018/07/11/%e3%80%8a%e7%bd%91%e7%bb%9c%e7%88%ac%e8%99%ab%ef%bc%9a%e4%bb%8e%e5%85%a5%e9%97%a8%e5%88%b0%e5%ae%9e%e8%b7%b5%e3%80%8b%e4%b8%80%e4%b9%a6%e5%8b%98%e8%af%af/\" title=\"《网络爬虫：从入门到实践》一书勘误\">《网络爬虫：从入门到实践》一书勘误</a></li>\n",
      "            <li><a href=\"http://www.santostang.com/2018/07/04/hello-world/\" title=\"Hello world!\">Hello world!</a></li>\n",
      "            <li><a href=\"http://www.santostang.com/2018/07/14/4-2-%e8%a7%a3%e6%9e%90%e7%9c%9f%e5%ae%9e%e5%9c%b0%e5%9d%80%e6%8a%93%e5%8f%96/\" title=\"第四章 &#8211; 4.2 解析真实地址抓取\">第四章 &#8211; 4.2 解析真实地址抓取</a></li>\n",
      "        </ul>\n",
      "</aside>\n",
      "<aside class=\"widget clearfix\">\n",
      "    <h4 class=\"widget-title\">标签云</h4>\n",
      "    <div class=\"widget-tags\">\n",
      "        <a href=\"http://www.santostang.com/tag/ajax/\" class=\"tag-cloud-link tag-link-3 tag-link-position-1\" style=\"color:#568a03;font-size: 22pt;\" aria-label=\"ajax (2个项目);\">ajax</a>\n",
      "<a href=\"http://www.santostang.com/tag/javascript/\" class=\"tag-cloud-link tag-link-4 tag-link-position-2\" style=\"color:#346fc8;font-size: 8pt;\" aria-label=\"javascript (1个项目);\">javascript</a>\n",
      "<a href=\"http://www.santostang.com/tag/python/\" class=\"tag-cloud-link tag-link-5 tag-link-position-3\" style=\"color:#1b38b2;font-size: 22pt;\" aria-label=\"python (2个项目);\">python</a>\n",
      "<a href=\"http://www.santostang.com/tag/selenium/\" class=\"tag-cloud-link tag-link-6 tag-link-position-4\" style=\"color:#dc74fd;font-size: 8pt;\" aria-label=\"selenium (1个项目);\">selenium</a>\n",
      "<a href=\"http://www.santostang.com/tag/%e7%bd%91%e7%bb%9c%e7%88%ac%e8%99%ab/\" class=\"tag-cloud-link tag-link-8 tag-link-position-5\" style=\"color:#1bb71f;font-size: 22pt;\" aria-label=\"网络爬虫 (2个项目);\">网络爬虫</a>\n",
      "<a href=\"http://www.santostang.com/tag/%e7%bd%91%e9%a1%b5%e7%88%ac%e8%99%ab/\" class=\"tag-cloud-link tag-link-9 tag-link-position-6\" style=\"color:#f8b48e;font-size: 8pt;\" aria-label=\"网页爬虫 (1个项目);\">网页爬虫</a>\n",
      "<a href=\"http://www.santostang.com/tag/%e8%a7%a3%e6%9e%90%e5%9c%b0%e5%9d%80/\" class=\"tag-cloud-link tag-link-10 tag-link-position-7\" style=\"color:#aff8e3;font-size: 8pt;\" aria-label=\"解析地址 (1个项目);\">解析地址</a>    </div>\n",
      "</aside>\n",
      "<aside class=\"widget clearfix\">\n",
      "    <h4 class=\"widget-title\">友情链接</h4>\n",
      "    <ul class=\"widget-links\">\n",
      "            </ul>\n",
      "</aside>\n",
      "        </div>\n",
      "    </div>\n",
      "</div>\n",
      "<div class=\"footer_search visible-xs visible-sm\">\n",
      "    <form id=\"searchform\" action=\"http://www.santostang.com\">\n",
      "        <div class=\"input-group\">\n",
      "            <input type=\"search\" class=\"form-control\" placeholder=\"搜索…\" value=\"\" name=\"s\">\n",
      "            <span class=\"input-group-btn\"><button class=\"btn btn-default\" type=\"submit\"><i class=\"fas fa-search\"></i></button></span>\n",
      "        </div>\n",
      "    </form>\n",
      "</div>\n",
      "<footer id=\"footer\">\n",
      "    <div class=\"copyright\">\n",
      "        <p><i class=\"far fa-copyright\"></i> 2019 <b>唐松-数据科学 版权所有</b></p>\n",
      "        <p>Powered by <b>WordPress</b>. Theme by <a href=\"https://tangjie.me/jiestyle-two\" data-toggle=\"tooltip\" data-placement=\"top\" title=\"WordPress 主题模板\" target=\"_blank\"><b>JieStyle Two</b></a> | <a href=\"http://beian.miit.gov.cn\" data-toggle=\"tooltip\" data-placement=\"top\" target=\"_blank\"><b>粤ICP备19068356号</b></a> </p> </p>\n",
      "    </div>\n",
      "    <div style=\"display:none;\">代码在页面底部，统计标识不会显示，但不影响统计效果</div>\n",
      "</footer>\n",
      "<script type=\"text/javascript\" src=\"http://www.santostang.com/wp-content/themes/SongStyle-Two/js/jquery.min.js\"></script>\n",
      "<script type=\"text/javascript\" src=\"http://www.santostang.com/wp-content/themes/SongStyle-Two/js/bootstrap.min.js\"></script>\n",
      "<script type=\"text/javascript\" src=\"http://www.santostang.com/wp-content/themes/SongStyle-Two/js/skel.min.js\"></script>\n",
      "<script type=\"text/javascript\" src=\"http://www.santostang.com/wp-content/themes/SongStyle-Two/js/util.min.js\"></script>\n",
      "<script type=\"text/javascript\" src=\"http://www.santostang.com/wp-content/themes/SongStyle-Two/js/nav.js\"></script>\n",
      "<script type='text/javascript' src='http://www.santostang.com/wp-includes/js/jquery/jquery.js?ver=1.12.4'></script>\n",
      "<script type='text/javascript' src='http://www.santostang.com/wp-includes/js/jquery/jquery-migrate.min.js?ver=1.4.1'></script>\n",
      "<script type='text/javascript' src='http://www.santostang.com/wp-content/plugins/captcha-bank/assets/global/plugins/custom/js/front-end-script.js?ver=4.8.13'></script>\n",
      "<script>\n",
      "$(function() {\n",
      "    $('[data-toggle=\"tooltip\"]').tooltip()\n",
      "});\n",
      "</script>\n",
      "<script>\n",
      "(function(){\n",
      "    var bp = document.createElement('script');\n",
      "    var curProtocol = window.location.protocol.split(':')[0];\n",
      "    if (curProtocol === 'https') {\n",
      "        bp.src = 'https://zz.bdstatic.com/linksubmit/push.js';\n",
      "    }\n",
      "    else {\n",
      "        bp.src = 'http://push.zhanzhang.baidu.com/push.js';\n",
      "    }\n",
      "    var s = document.getElementsByTagName(\"script\")[0];\n",
      "    s.parentNode.insertBefore(bp, s);\n",
      "})();\n",
      "</script>\n",
      "<script>\n",
      "var _hmt = _hmt || [];\n",
      "(function() {\n",
      "  var hm = document.createElement(\"script\");\n",
      "  hm.src = \"https://hm.baidu.com/hm.js?752e310cec7906ba7afeb24cd7114c48\";\n",
      "  var s = document.getElementsByTagName(\"script\")[0]; \n",
      "  s.parentNode.insertBefore(hm, s);\n",
      "})();\n",
      "</script>\n",
      "</body>\n",
      "</html>\n"
     ]
    }
   ],
   "source": [
    "import requests\n",
    "# define the targrt website link\n",
    "link = \"http://santostang.com\"\n",
    "# set request headers\n",
    "headers = {\"User-Agent\": \"Mozilla/5.0(Windows); U; Windows NT 6.1; en-us; rv:1.9.1.6) Gecko/20091201 firefox/4.5.6\"}\n",
    "# send request\n",
    "r = requests.get(link, headers = headers)\n",
    "# print the source of request\n",
    "print(r.text)"
   ]
  },
  {
   "cell_type": "markdown",
   "metadata": {},
   "source": [
    "### 解析网页"
   ]
  },
  {
   "cell_type": "code",
   "execution_count": null,
   "metadata": {},
   "outputs": [],
   "source": []
  },
  {
   "cell_type": "markdown",
   "metadata": {},
   "source": [
    "### 存储数据"
   ]
  },
  {
   "cell_type": "code",
   "execution_count": null,
   "metadata": {},
   "outputs": [],
   "source": []
  },
  {
   "cell_type": "code",
   "execution_count": 52,
   "metadata": {},
   "outputs": [
    {
     "name": "stdout",
     "output_type": "stream",
     "text": [
      "ISO-8859-1\n",
      "******************************\n",
      "200\n",
      "******************************\n",
      "<!DOCTYPE HTML>\r\n",
      "<!--\r\n",
      "\tIdentity by HTML5 UP\r\n",
      "\thtml5up.net | @ajlkn\r\n",
      "\tFree for personal and commercial use under the CCA 3.0 license (html5up.net/license)\r\n",
      "-->\r\n",
      "<html>\r\n",
      "\t<head>\r\n",
      "\t\t<title>The Re-Re Road</title>\r\n",
      "\t\t<meta charset=\"utf-8\" />\r\n",
      "\t\t<meta name=\"viewport\" content=\"width=device-width, initial-scale=1\" />\r\n",
      "\t\t<!--[if lte IE 8]><script src=\"assets/js/html5shiv.js\"></script><![endif]-->\r\n",
      "\t\t<link rel=\"stylesheet\" href=\"assets/css/main.css\" />\r\n",
      "\t\t<!--[if lte IE 9]><link rel=\"stylesheet\" href=\"assets/css/ie9.css\" /><![endif]-->\r\n",
      "\t\t<!--[if lte IE 8]><link rel=\"stylesheet\" href=\"assets/css/ie8.css\" /><![endif]-->\r\n",
      "\t\t<noscript><link rel=\"stylesheet\" href=\"assets/css/noscript.css\" /></noscript>\r\n",
      "\t</head>\r\n",
      "\t<body class=\"is-loading\">\r\n",
      "\r\n",
      "\t\t<!-- Wrapper -->\r\n",
      "\t\t\t<div id=\"wrapper\">\r\n",
      "\r\n",
      "\t\t\t\t<!-- Main -->\r\n",
      "\t\t\t\t\t<section id=\"main\">\r\n",
      "\t\t\t\t\t\t<header>\r\n",
      "\t\t\t\t\t\t\t<span class=\"avatar\"><img src=\"images/cat.jpg\" alt=\"\" /></span>\r\n",
      "\t\t\t\t\t\t\t<h1>Toky</h1>\r\n",
      "\t\t\t\t\t\t\t<p>Cat Lord</p>\r\n",
      "\t\t\t\t\t\t\t<p>Patience is bitter but it's fruit is sweet :-)</p>\r\n",
      "\t\t\t\t\t\t\t<p>Stay Hungry, Stay Malicious</p>\r\n",
      "\t\t\t\t\t\t</header>\r\n",
      "\t\t\t\t\t\t<!--\r\n",
      "\t\t\t\t\t\t<hr />\r\n",
      "\t\t\t\t\t\t<h2>Extra Stuff!</h2>\r\n",
      "\t\t\t\t\t\t<form method=\"post\" action=\"#\">\r\n",
      "\t\t\t\t\t\t\t<div class=\"field\">\r\n",
      "\t\t\t\t\t\t\t\t<input type=\"text\" name=\"name\" id=\"name\" placeholder=\"Name\" />\r\n",
      "\t\t\t\t\t\t\t</div>\r\n",
      "\t\t\t\t\t\t\t<div class=\"field\">\r\n",
      "\t\t\t\t\t\t\t\t<input type=\"email\" name=\"email\" id=\"email\" placeholder=\"Email\" />\r\n",
      "\t\t\t\t\t\t\t</div>\r\n",
      "\t\t\t\t\t\t\t<div class=\"field\">\r\n",
      "\t\t\t\t\t\t\t\t<div class=\"select-wrapper\">\r\n",
      "\t\t\t\t\t\t\t\t\t<select name=\"department\" id=\"department\">\r\n",
      "\t\t\t\t\t\t\t\t\t\t<option value=\"\">Department</option>\r\n",
      "\t\t\t\t\t\t\t\t\t\t<option value=\"sales\">Sales</option>\r\n",
      "\t\t\t\t\t\t\t\t\t\t<option value=\"tech\">Tech Support</option>\r\n",
      "\t\t\t\t\t\t\t\t\t\t<option value=\"null\">/dev/null</option>\r\n",
      "\t\t\t\t\t\t\t\t\t</select>\r\n",
      "\t\t\t\t\t\t\t\t</div>\r\n",
      "\t\t\t\t\t\t\t</div>\r\n",
      "\t\t\t\t\t\t\t<div class=\"field\">\r\n",
      "\t\t\t\t\t\t\t\t<textarea name=\"message\" id=\"message\" placeholder=\"Message\" rows=\"4\"></textarea>\r\n",
      "\t\t\t\t\t\t\t</div>\r\n",
      "\t\t\t\t\t\t\t<div class=\"field\">\r\n",
      "\t\t\t\t\t\t\t\t<input type=\"checkbox\" id=\"human\" name=\"human\" /><label for=\"human\">I'm a human</label>\r\n",
      "\t\t\t\t\t\t\t</div>\r\n",
      "\t\t\t\t\t\t\t<div class=\"field\">\r\n",
      "\t\t\t\t\t\t\t\t<label>But are you a robot?</label>\r\n",
      "\t\t\t\t\t\t\t\t<input type=\"radio\" id=\"robot_yes\" name=\"robot\" /><label for=\"robot_yes\">Yes</label>\r\n",
      "\t\t\t\t\t\t\t\t<input type=\"radio\" id=\"robot_no\" name=\"robot\" /><label for=\"robot_no\">No</label>\r\n",
      "\t\t\t\t\t\t\t</div>\r\n",
      "\t\t\t\t\t\t\t<ul class=\"actions\">\r\n",
      "\t\t\t\t\t\t\t\t<li><a href=\"#\" class=\"button\">Get Started</a></li>\r\n",
      "\t\t\t\t\t\t\t</ul>\r\n",
      "\t\t\t\t\t\t</form>\r\n",
      "\t\t\t\t\t\t<hr />\r\n",
      "\t\t\t\t\t\t-->\r\n",
      "\t\t\t\t\t\t<footer>\r\n",
      "\t\t\t\t\t\t\t<ul>\r\n",
      "\t\t\t\t\t\t\t\t<li><a href=\"https://satan1a.github.io\">My Blog</a></li>\r\n",
      "\t\t\t\t\t\t\t\t<li><a href=\"http://y1ng.cc/\">My BBS </a></li>\r\n",
      "\t\t\t\t\t\t\t\t<li><a href=\"https://github.com/satan1a\" >My Projects</a></li>\r\n",
      "                                                                <li><a href=\"https://myblog.thereroad.com\">My Personal Blog</a></li>\r\n",
      "\t\t\t\t\t\t\t\t<li><a href=\"http://119.3.78.82:8081/WebGoat/login\">WebGoat</a></li>\r\n",
      "\t\t\t\t\t\t\t\t<li><a href=\"http://119.3.78.82:8089/\" >Pikachu</a></li>\r\n",
      "\t\t\t\t\t\t\t\t<li><a href=\"http://y1ng.com:8083\" >ZJNUCTF OJ</a></li>\r\n",
      "\t\t\t\t\t\t\t\t<li><a href=\"http://119.3.78.82:8085\" >My Lychee</a></li>\r\n",
      "\t\t\t\t\t\t\t\t<li><a href=\"http://y1ng.com:8088/\" >NextCloud</a></li>\r\n",
      "\t\t\t\t\t\t\t</ul>\r\n",
      "\t\t\t\t\t\t</footer>\r\n",
      "\t\t\t\t\t</section>\r\n",
      "\r\n",
      "\t\t\t\t<!-- Footer -->\r\n",
      "\t\t\t\t\t<footer id=\"footer\">\r\n",
      "\t\t\t\t\t\t<ul class=\"copyright\">\r\n",
      "<br/> <a href=\"http://www.beian.miit.gov.cn\" target=\"_blank\">æµICPå¤180166å·-1</a>\r\n",
      "\t\t\t\t\t\t\t<!-- <li>&copy; Jane Doe</li><li>Design: <a href=\"http://html5up.net\">HTML5 UP</a></li> -->\r\n",
      "\t\t\t\t\t\t</ul>\r\n",
      "\t\t\t\t\t</footer>\r\n",
      "\r\n",
      "\t\t\t</div>\r\n",
      "\r\n",
      "\t\t<!-- Scripts -->\r\n",
      "\t\t\t<!--[if lte IE 8]><script src=\"assets/js/respond.min.js\"></script><![endif]-->\r\n",
      "\t\t\t<script>\r\n",
      "\t\t\t\tif ('addEventListener' in window) {\r\n",
      "\t\t\t\t\twindow.addEventListener('load', function() { document.body.className = document.body.className.replace(/\\bis-loading\\b/, ''); });\r\n",
      "\t\t\t\t\tdocument.body.className += (navigator.userAgent.match(/(MSIE|rv:11\\.0)/) ? ' is-ie' : '');\r\n",
      "\t\t\t\t}\r\n",
      "\t\t\t</script>\r\n",
      "\r\n",
      "\t</body>\r\n",
      "</html>\r\n",
      "\n",
      "******************************\n",
      "b'<!DOCTYPE HTML>\\r\\n<!--\\r\\n\\tIdentity by HTML5 UP\\r\\n\\thtml5up.net | @ajlkn\\r\\n\\tFree for personal and commercial use under the CCA 3.0 license (html5up.net/license)\\r\\n-->\\r\\n<html>\\r\\n\\t<head>\\r\\n\\t\\t<title>The Re-Re Road</title>\\r\\n\\t\\t<meta charset=\"utf-8\" />\\r\\n\\t\\t<meta name=\"viewport\" content=\"width=device-width, initial-scale=1\" />\\r\\n\\t\\t<!--[if lte IE 8]><script src=\"assets/js/html5shiv.js\"></script><![endif]-->\\r\\n\\t\\t<link rel=\"stylesheet\" href=\"assets/css/main.css\" />\\r\\n\\t\\t<!--[if lte IE 9]><link rel=\"stylesheet\" href=\"assets/css/ie9.css\" /><![endif]-->\\r\\n\\t\\t<!--[if lte IE 8]><link rel=\"stylesheet\" href=\"assets/css/ie8.css\" /><![endif]-->\\r\\n\\t\\t<noscript><link rel=\"stylesheet\" href=\"assets/css/noscript.css\" /></noscript>\\r\\n\\t</head>\\r\\n\\t<body class=\"is-loading\">\\r\\n\\r\\n\\t\\t<!-- Wrapper -->\\r\\n\\t\\t\\t<div id=\"wrapper\">\\r\\n\\r\\n\\t\\t\\t\\t<!-- Main -->\\r\\n\\t\\t\\t\\t\\t<section id=\"main\">\\r\\n\\t\\t\\t\\t\\t\\t<header>\\r\\n\\t\\t\\t\\t\\t\\t\\t<span class=\"avatar\"><img src=\"images/cat.jpg\" alt=\"\" /></span>\\r\\n\\t\\t\\t\\t\\t\\t\\t<h1>Toky</h1>\\r\\n\\t\\t\\t\\t\\t\\t\\t<p>Cat Lord</p>\\r\\n\\t\\t\\t\\t\\t\\t\\t<p>Patience is bitter but it\\'s fruit is sweet :-)</p>\\r\\n\\t\\t\\t\\t\\t\\t\\t<p>Stay Hungry, Stay Malicious</p>\\r\\n\\t\\t\\t\\t\\t\\t</header>\\r\\n\\t\\t\\t\\t\\t\\t<!--\\r\\n\\t\\t\\t\\t\\t\\t<hr />\\r\\n\\t\\t\\t\\t\\t\\t<h2>Extra Stuff!</h2>\\r\\n\\t\\t\\t\\t\\t\\t<form method=\"post\" action=\"#\">\\r\\n\\t\\t\\t\\t\\t\\t\\t<div class=\"field\">\\r\\n\\t\\t\\t\\t\\t\\t\\t\\t<input type=\"text\" name=\"name\" id=\"name\" placeholder=\"Name\" />\\r\\n\\t\\t\\t\\t\\t\\t\\t</div>\\r\\n\\t\\t\\t\\t\\t\\t\\t<div class=\"field\">\\r\\n\\t\\t\\t\\t\\t\\t\\t\\t<input type=\"email\" name=\"email\" id=\"email\" placeholder=\"Email\" />\\r\\n\\t\\t\\t\\t\\t\\t\\t</div>\\r\\n\\t\\t\\t\\t\\t\\t\\t<div class=\"field\">\\r\\n\\t\\t\\t\\t\\t\\t\\t\\t<div class=\"select-wrapper\">\\r\\n\\t\\t\\t\\t\\t\\t\\t\\t\\t<select name=\"department\" id=\"department\">\\r\\n\\t\\t\\t\\t\\t\\t\\t\\t\\t\\t<option value=\"\">Department</option>\\r\\n\\t\\t\\t\\t\\t\\t\\t\\t\\t\\t<option value=\"sales\">Sales</option>\\r\\n\\t\\t\\t\\t\\t\\t\\t\\t\\t\\t<option value=\"tech\">Tech Support</option>\\r\\n\\t\\t\\t\\t\\t\\t\\t\\t\\t\\t<option value=\"null\">/dev/null</option>\\r\\n\\t\\t\\t\\t\\t\\t\\t\\t\\t</select>\\r\\n\\t\\t\\t\\t\\t\\t\\t\\t</div>\\r\\n\\t\\t\\t\\t\\t\\t\\t</div>\\r\\n\\t\\t\\t\\t\\t\\t\\t<div class=\"field\">\\r\\n\\t\\t\\t\\t\\t\\t\\t\\t<textarea name=\"message\" id=\"message\" placeholder=\"Message\" rows=\"4\"></textarea>\\r\\n\\t\\t\\t\\t\\t\\t\\t</div>\\r\\n\\t\\t\\t\\t\\t\\t\\t<div class=\"field\">\\r\\n\\t\\t\\t\\t\\t\\t\\t\\t<input type=\"checkbox\" id=\"human\" name=\"human\" /><label for=\"human\">I\\'m a human</label>\\r\\n\\t\\t\\t\\t\\t\\t\\t</div>\\r\\n\\t\\t\\t\\t\\t\\t\\t<div class=\"field\">\\r\\n\\t\\t\\t\\t\\t\\t\\t\\t<label>But are you a robot?</label>\\r\\n\\t\\t\\t\\t\\t\\t\\t\\t<input type=\"radio\" id=\"robot_yes\" name=\"robot\" /><label for=\"robot_yes\">Yes</label>\\r\\n\\t\\t\\t\\t\\t\\t\\t\\t<input type=\"radio\" id=\"robot_no\" name=\"robot\" /><label for=\"robot_no\">No</label>\\r\\n\\t\\t\\t\\t\\t\\t\\t</div>\\r\\n\\t\\t\\t\\t\\t\\t\\t<ul class=\"actions\">\\r\\n\\t\\t\\t\\t\\t\\t\\t\\t<li><a href=\"#\" class=\"button\">Get Started</a></li>\\r\\n\\t\\t\\t\\t\\t\\t\\t</ul>\\r\\n\\t\\t\\t\\t\\t\\t</form>\\r\\n\\t\\t\\t\\t\\t\\t<hr />\\r\\n\\t\\t\\t\\t\\t\\t-->\\r\\n\\t\\t\\t\\t\\t\\t<footer>\\r\\n\\t\\t\\t\\t\\t\\t\\t<ul>\\r\\n\\t\\t\\t\\t\\t\\t\\t\\t<li><a href=\"https://satan1a.github.io\">My Blog</a></li>\\r\\n\\t\\t\\t\\t\\t\\t\\t\\t<li><a href=\"http://y1ng.cc/\">My BBS </a></li>\\r\\n\\t\\t\\t\\t\\t\\t\\t\\t<li><a href=\"https://github.com/satan1a\" >My Projects</a></li>\\r\\n                                                                <li><a href=\"https://myblog.thereroad.com\">My Personal Blog</a></li>\\r\\n\\t\\t\\t\\t\\t\\t\\t\\t<li><a href=\"http://119.3.78.82:8081/WebGoat/login\">WebGoat</a></li>\\r\\n\\t\\t\\t\\t\\t\\t\\t\\t<li><a href=\"http://119.3.78.82:8089/\" >Pikachu</a></li>\\r\\n\\t\\t\\t\\t\\t\\t\\t\\t<li><a href=\"http://y1ng.com:8083\" >ZJNUCTF OJ</a></li>\\r\\n\\t\\t\\t\\t\\t\\t\\t\\t<li><a href=\"http://119.3.78.82:8085\" >My Lychee</a></li>\\r\\n\\t\\t\\t\\t\\t\\t\\t\\t<li><a href=\"http://y1ng.com:8088/\" >NextCloud</a></li>\\r\\n\\t\\t\\t\\t\\t\\t\\t</ul>\\r\\n\\t\\t\\t\\t\\t\\t</footer>\\r\\n\\t\\t\\t\\t\\t</section>\\r\\n\\r\\n\\t\\t\\t\\t<!-- Footer -->\\r\\n\\t\\t\\t\\t\\t<footer id=\"footer\">\\r\\n\\t\\t\\t\\t\\t\\t<ul class=\"copyright\">\\r\\n<br/> <a href=\"http://www.beian.miit.gov.cn\" target=\"_blank\">\\xe6\\xb5\\x99ICP\\xe5\\xa4\\x87180166\\xe5\\x8f\\xb7-1</a>\\r\\n\\t\\t\\t\\t\\t\\t\\t<!-- <li>&copy; Jane Doe</li><li>Design: <a href=\"http://html5up.net\">HTML5 UP</a></li> -->\\r\\n\\t\\t\\t\\t\\t\\t</ul>\\r\\n\\t\\t\\t\\t\\t</footer>\\r\\n\\r\\n\\t\\t\\t</div>\\r\\n\\r\\n\\t\\t<!-- Scripts -->\\r\\n\\t\\t\\t<!--[if lte IE 8]><script src=\"assets/js/respond.min.js\"></script><![endif]-->\\r\\n\\t\\t\\t<script>\\r\\n\\t\\t\\t\\tif (\\'addEventListener\\' in window) {\\r\\n\\t\\t\\t\\t\\twindow.addEventListener(\\'load\\', function() { document.body.className = document.body.className.replace(/\\\\bis-loading\\\\b/, \\'\\'); });\\r\\n\\t\\t\\t\\t\\tdocument.body.className += (navigator.userAgent.match(/(MSIE|rv:11\\\\.0)/) ? \\' is-ie\\' : \\'\\');\\r\\n\\t\\t\\t\\t}\\r\\n\\t\\t\\t</script>\\r\\n\\r\\n\\t</body>\\r\\n</html>\\r\\n'\n"
     ]
    }
   ],
   "source": [
    "import requests\n",
    "link = \"https://www.thereroad.com\"\n",
    "headers = {\"User-Agent\": \"Mozilla/5.0(Windows); U; Windows NT 6.1; en-us; rv:1.9.1.6) Gecko/20091201 firefox/4.5.6\"}\n",
    "r = requests.get(link, headers)\n",
    "\n",
    "# Method: get the encoding way\n",
    "r_encoding = r.encoding\n",
    "# Method: get the status code of a request object\n",
    "r_status = r.status_code\n",
    "# Method: get the reponse object in string type \n",
    "r_text = r.text\n",
    "# Method: get the response object in byte type\n",
    "r_content = r.content\n",
    "\n",
    "\n",
    "print(r_encoding)\n",
    "print(\"{0}\".format(\"*\"*30))\n",
    "print(r_status)\n",
    "print(\"{0}\".format(\"*\"*30))\n",
    "print(r_text)\n",
    "print(\"{0}\".format(\"*\"*30))\n",
    "print(r_content)\n",
    "\n"
   ]
  },
  {
   "cell_type": "code",
   "execution_count": null,
   "metadata": {},
   "outputs": [],
   "source": []
  }
 ],
 "metadata": {
  "kernelspec": {
   "display_name": "Python 3",
   "language": "python",
   "name": "python3"
  },
  "language_info": {
   "codemirror_mode": {
    "name": "ipython",
    "version": 3
   },
   "file_extension": ".py",
   "mimetype": "text/x-python",
   "name": "python",
   "nbconvert_exporter": "python",
   "pygments_lexer": "ipython3",
   "version": "3.7.2"
  }
 },
 "nbformat": 4,
 "nbformat_minor": 4
}
